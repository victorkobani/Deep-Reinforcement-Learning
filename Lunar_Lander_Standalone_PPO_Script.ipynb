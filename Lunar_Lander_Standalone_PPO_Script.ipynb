{
  "nbformat": 4,
  "nbformat_minor": 0,
  "metadata": {
    "colab": {
      "provenance": [],
      "machine_shape": "hm",
      "gpuType": "L4",
      "authorship_tag": "ABX9TyNOMjE31BgPbXV5baK3GJlk",
      "include_colab_link": true
    },
    "kernelspec": {
      "name": "python3",
      "display_name": "Python 3"
    },
    "language_info": {
      "name": "python"
    },
    "accelerator": "GPU"
  },
  "cells": [
    {
      "cell_type": "markdown",
      "metadata": {
        "id": "view-in-github",
        "colab_type": "text"
      },
      "source": [
        "<a href=\"https://colab.research.google.com/github/victorkobani/Deep-Reinforcement-Learning/blob/main/Lunar_Lander_Standalone_PPO_Script.ipynb\" target=\"_parent\"><img src=\"https://colab.research.google.com/assets/colab-badge.svg\" alt=\"Open In Colab\"/></a>"
      ]
    },
    {
      "cell_type": "markdown",
      "source": [
        "INSTALL DEPENDENCIES"
      ],
      "metadata": {
        "id": "rVcCrBvDGN_k"
      }
    },
    {
      "cell_type": "code",
      "execution_count": null,
      "metadata": {
        "id": "TIiwHtYNFq8x"
      },
      "outputs": [],
      "source": [
        "# Installing required dependencies\n",
        "!apt-get update\n",
        "!apt-get install -y swig cmake ffmpeg freeglut3-dev xvfb\n",
        "\n",
        "# Installing more dependencies\n",
        "!pip install \"gymnasium[box2d]\"\n",
        "!pip install \"stable-baselines3[extra]>=2.7.0\"\n",
        "!pip install \"huggingface_sb3>=3.0\"\n",
        "!pip install \"moviepy>=2.2.1\""
      ]
    },
    {
      "cell_type": "markdown",
      "source": [
        "IMPORTS"
      ],
      "metadata": {
        "id": "R9qJeLJHGYCr"
      }
    },
    {
      "cell_type": "code",
      "source": [
        "import gymnasium as gym\n",
        "import os\n",
        "import numpy as np\n",
        "import matplotlib.pyplot as plt\n",
        "from stable_baselines3 import PPO\n",
        "from stable_baselines3.common.evaluation import evaluate_policy\n",
        "from stable_baselines3.common.callbacks import EvalCallback\n",
        "from stable_baselines3.common.monitor import Monitor\n",
        "from stable_baselines3.common.vec_env import VecVideoRecorder, DummyVecEnv\n",
        "from IPython.display import HTML, display\n",
        "from base64 import b64encode"
      ],
      "metadata": {
        "id": "sBdkm5vgGn3i"
      },
      "execution_count": null,
      "outputs": []
    },
    {
      "cell_type": "markdown",
      "source": [
        "CREATE GYM ENVIRONMENT AND INSTANTIATE AGENT"
      ],
      "metadata": {
        "id": "RS1YMxmHIcJH"
      }
    },
    {
      "cell_type": "code",
      "source": [
        "# Create the Gym env and instantiate the agent\n",
        "model = PPO(\n",
        "    \"MlpPolicy\",\n",
        "    \"LunarLander-v3\",\n",
        "    verbose=1,\n",
        ")"
      ],
      "metadata": {
        "id": "7r1CbMRsIjuC"
      },
      "execution_count": null,
      "outputs": []
    },
    {
      "cell_type": "markdown",
      "source": [
        "EVALUATE UNTRAINED AGENT"
      ],
      "metadata": {
        "id": "d5Sn7AuWI79g"
      }
    },
    {
      "cell_type": "code",
      "source": [
        "# Let's evaluate the un-trained agent, this should be a random agent.\n",
        "eval_env = gym.make(\"LunarLander-v3\")\n",
        "mean_reward, std_reward = evaluate_policy(\n",
        "    model,\n",
        "    eval_env,\n",
        "    n_eval_episodes=20,\n",
        "    deterministic=True,\n",
        ")\n",
        "print(f\"Untrained PPO agent mean_reward={mean_reward:.2f} +/- {std_reward}\")"
      ],
      "metadata": {
        "id": "uvfkliVnJmZX"
      },
      "execution_count": null,
      "outputs": []
    },
    {
      "cell_type": "markdown",
      "source": [
        "SETUP CALLBACK AND TRAIN THE AGENT"
      ],
      "metadata": {
        "id": "3YpYoTwTJxf3"
      }
    },
    {
      "cell_type": "code",
      "source": [
        "# Setting up the callback for logging performance\n",
        "\n",
        "# Create a directory for logs\n",
        "log_dir = \"/tmp/ppo_gym_logs/\"\n",
        "os.makedirs(log_dir, exist_ok=True)\n",
        "\n",
        "# Wrap the evaluation environment with a Monitor. This is needed for the callback.\n",
        "eval_env_monitored = Monitor(gym.make(\"LunarLander-v3\"))\n",
        "\n",
        "# Create the EvalCallback\n",
        "eval_callback = EvalCallback(\n",
        "    eval_env_monitored,\n",
        "    best_model_save_path=os.path.join(log_dir, 'best_model'),\n",
        "    log_path=os.path.join(log_dir, 'results'),\n",
        "    eval_freq=5000, # Evaluate the agent every 5000 steps\n",
        "    deterministic=True,\n",
        "    render=False\n",
        ")\n",
        "\n",
        "# Train the agent and save it\n",
        "print(\"\\n--- Starting PPO Training ---\")\n",
        "# Pass the callback to the learn method\n",
        "model.learn(total_timesteps=int(1e6), log_interval=400, progress_bar=True, callback=eval_callback)\n",
        "model.save(\"ppo_lunar_v3\")\n",
        "del model  # delete trained model to demonstrate loading"
      ],
      "metadata": {
        "id": "hcUaNkb3KF_p"
      },
      "execution_count": null,
      "outputs": []
    },
    {
      "cell_type": "markdown",
      "source": [
        "LOAD AND EVALUATE THE TRAINED AGENT"
      ],
      "metadata": {
        "id": "SuwRO3BAKSap"
      }
    },
    {
      "cell_type": "code",
      "source": [
        "print(\"\\n--- Loading and Evaluating Final PPO Model ---\")\n",
        "model = PPO.load(\"ppo_lunar_v3\")\n",
        "\n",
        "# Evaluate the trained agent\n",
        "mean_reward, std_reward = evaluate_policy(model, eval_env, n_eval_episodes=20, deterministic=True)\n",
        "print(f\"Trained PPO agent mean_reward={mean_reward:.2f} +/- {std_reward}\")"
      ],
      "metadata": {
        "id": "hVM4dvkGKapQ"
      },
      "execution_count": null,
      "outputs": []
    },
    {
      "cell_type": "markdown",
      "source": [
        "PLOT THE RESULTS"
      ],
      "metadata": {
        "id": "5F1bfkxQKgrT"
      }
    },
    {
      "cell_type": "code",
      "source": [
        "# Adding the plotting logic\n",
        "\n",
        "print(\"\\n--- Plotting PPO Training Progress ---\")\n",
        "\n",
        "# Construct the correct path to the log file\n",
        "results_path = os.path.join(log_dir, \"results\")\n",
        "log_file = os.path.join(results_path, \"evaluations.npz\")\n",
        "\n",
        "if os.path.exists(log_file):\n",
        "    print(f\"Loading log file from: {log_file}\")\n",
        "    # Load the saved data\n",
        "    data = np.load(log_file)\n",
        "\n",
        "    timesteps = data['timesteps']\n",
        "    mean_rewards = data['results'][:, 0]\n",
        "\n",
        "    # Create the plot\n",
        "    plt.figure(figsize=(12, 6))\n",
        "    plt.title(\"Standalone PPO Training Performance on LunarLander-v3\")\n",
        "    plt.xlabel(\"Training Timesteps\")\n",
        "    plt.ylabel(\"Average Reward\")\n",
        "    plt.plot(timesteps, mean_rewards)\n",
        "    plt.axhline(y=250, color='r', linestyle='--', label='Success Threshold (250)')\n",
        "    plt.legend()\n",
        "    plt.grid(True)\n",
        "    plt.show()\n",
        "else:\n",
        "    print(f\"Log file not found at {log_file}. Cannot plot results.\")"
      ],
      "metadata": {
        "id": "53fSf_JkKmBq"
      },
      "execution_count": null,
      "outputs": []
    },
    {
      "cell_type": "markdown",
      "source": [
        "RECORD VIDEO OF TRAINED AGENT"
      ],
      "metadata": {
        "id": "BOvT94WKK_Mb"
      }
    },
    {
      "cell_type": "code",
      "source": [
        "print(\"\\n--- Recording Video of Trained PPO Agent ---\")\n",
        "\n",
        "env_id = \"LunarLander-v3\"\n",
        "video_folder = \"logs/videos/\"\n",
        "video_length = 6000\n",
        "os.makedirs(video_folder, exist_ok=True)\n",
        "\n",
        "vec_env = DummyVecEnv([lambda: gym.make(env_id, render_mode=\"rgb_array\")])\n",
        "\n",
        "name_prefix = f\"ppo-agent-{env_id}\"\n",
        "vec_env = VecVideoRecorder(vec_env, video_folder,\n",
        "                       record_video_trigger=lambda x: x == 0, video_length=video_length,\n",
        "                       name_prefix=name_prefix)\n",
        "\n",
        "obs = vec_env.reset()\n",
        "for _ in range(video_length + 1):\n",
        "  action, _state = model.predict(obs, deterministic=True)\n",
        "  obs, _, _, _ = vec_env.step(action)\n",
        "vec_env.close()\n",
        "\n",
        "# Display the video\n",
        "video_filename = f\"{video_folder}{name_prefix}-step-0-to-step-{video_length}.mp4\"\n",
        "if os.path.exists(video_filename):\n",
        "    mp4 = open(video_filename,'rb').read()\n",
        "    data_url = \"data:video/mp4;base64,\" + b64encode(mp4).decode()\n",
        "    display(HTML(f\"\"\"\n",
        "    <video width=400 controls>\n",
        "          <source src=\"{data_url}\" type=\"video/mp4\">\n",
        "    </video>\n",
        "    \"\"\"))\n",
        "else:\n",
        "    print(f\"Video file not found at {video_filename}\")"
      ],
      "metadata": {
        "id": "Xqj8xyG2LFIt"
      },
      "execution_count": null,
      "outputs": []
    }
  ]
}