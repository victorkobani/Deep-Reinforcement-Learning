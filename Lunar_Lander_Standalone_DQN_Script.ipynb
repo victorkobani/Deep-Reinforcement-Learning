{
  "nbformat": 4,
  "nbformat_minor": 0,
  "metadata": {
    "colab": {
      "provenance": [],
      "machine_shape": "hm",
      "gpuType": "L4",
      "authorship_tag": "ABX9TyNdCMkjEYbknabhZ9FEzhPH",
      "include_colab_link": true
    },
    "kernelspec": {
      "name": "python3",
      "display_name": "Python 3"
    },
    "language_info": {
      "name": "python"
    },
    "accelerator": "GPU"
  },
  "cells": [
    {
      "cell_type": "markdown",
      "metadata": {
        "id": "view-in-github",
        "colab_type": "text"
      },
      "source": [
        "<a href=\"https://colab.research.google.com/github/victorkobani/Federated-Deep-Reinforcement-Learning/blob/main/Lunar_Lander_Standalone_DQN_Script.ipynb\" target=\"_parent\"><img src=\"https://colab.research.google.com/assets/colab-badge.svg\" alt=\"Open In Colab\"/></a>"
      ]
    },
    {
      "cell_type": "markdown",
      "source": [
        "INSTALL DEPENDENCIES"
      ],
      "metadata": {
        "id": "HNJfcW3zMbSU"
      }
    },
    {
      "cell_type": "code",
      "execution_count": null,
      "metadata": {
        "id": "VlpA-L28Lktq"
      },
      "outputs": [],
      "source": [
        "# Installing required dependencies\n",
        "!apt-get update\n",
        "!apt-get install -y swig cmake ffmpeg freeglut3-dev xvfb\n",
        "\n",
        "# Installing more dependencies\n",
        "!pip install \"gymnasium[box2d]\"\n",
        "!pip install \"stable-baselines3[extra]>=2.7.0\"\n",
        "!pip install \"huggingface_sb3>=3.0\"\n",
        "!pip install \"moviepy>=2.2.1\""
      ]
    },
    {
      "cell_type": "markdown",
      "source": [
        "IMPORTS"
      ],
      "metadata": {
        "id": "OPhAkBzqLu4P"
      }
    },
    {
      "cell_type": "code",
      "source": [
        "import gymnasium as gym\n",
        "import os\n",
        "import numpy as np\n",
        "import matplotlib.pyplot as plt\n",
        "from stable_baselines3 import DQN\n",
        "from stable_baselines3.common.evaluation import evaluate_policy\n",
        "from stable_baselines3.common.callbacks import EvalCallback\n",
        "from stable_baselines3.common.monitor import Monitor\n",
        "from stable_baselines3.common.vec_env import VecVideoRecorder, DummyVecEnv\n",
        "from IPython.display import HTML, display\n",
        "from base64 import b64encode"
      ],
      "metadata": {
        "id": "Lax0z-cMMomF"
      },
      "execution_count": null,
      "outputs": []
    },
    {
      "cell_type": "markdown",
      "source": [
        "CREATE GYM ENVIRONMENT AND INSTANTIATE AGENT"
      ],
      "metadata": {
        "id": "-fcySO1xMtDj"
      }
    },
    {
      "cell_type": "code",
      "source": [
        "model = DQN(\n",
        "    \"MlpPolicy\",\n",
        "    \"LunarLander-v3\",\n",
        "    verbose=1,\n",
        "    exploration_final_eps=0.1,\n",
        "    target_update_interval=250,\n",
        ")"
      ],
      "metadata": {
        "id": "jelUwJLdMzOm"
      },
      "execution_count": null,
      "outputs": []
    },
    {
      "cell_type": "markdown",
      "source": [
        "EVALUATE UNTRAINED AGENT"
      ],
      "metadata": {
        "id": "S7baaS3dM2-4"
      }
    },
    {
      "cell_type": "code",
      "source": [
        "# Let's evaluate the un-trained agent, this should be a random agent.\n",
        "eval_env = gym.make(\"LunarLander-v3\")\n",
        "mean_reward, std_reward = evaluate_policy(\n",
        "    model,\n",
        "    eval_env,\n",
        "    n_eval_episodes=20,\n",
        "    deterministic=True,\n",
        ")\n",
        "print(f\"Untrained agent mean_reward={mean_reward:.2f} +/- {std_reward}\")"
      ],
      "metadata": {
        "id": "DPBqaBZ5M8Px"
      },
      "execution_count": null,
      "outputs": []
    },
    {
      "cell_type": "markdown",
      "source": [
        "SETUP CALLBACK AND TRAIN THE AGENT"
      ],
      "metadata": {
        "id": "qzxN2VrhNFwq"
      }
    },
    {
      "cell_type": "code",
      "source": [
        "log_dir = \"/tmp/gym_logs/\"\n",
        "os.makedirs(log_dir, exist_ok=True)\n",
        "\n",
        "eval_env_monitored = Monitor(gym.make(\"LunarLander-v3\"))\n",
        "\n",
        "eval_callback = EvalCallback(\n",
        "    eval_env_monitored,\n",
        "    best_model_save_path=os.path.join(log_dir, 'best_model'),\n",
        "    log_path=os.path.join(log_dir, 'results'),\n",
        "    eval_freq=5000,\n",
        "    deterministic=True,\n",
        "    render=False\n",
        ")\n",
        "\n",
        "print(\"\\n--- Starting Training ---\")\n",
        "model.learn(\n",
        "    total_timesteps=int(1e6),\n",
        "    log_interval=400,\n",
        "    progress_bar=True,\n",
        "    callback=eval_callback\n",
        ")\n",
        "model.save(\"dqn_lunar_v3\")\n",
        "del model  # delete trained model to demonstrate loading"
      ],
      "metadata": {
        "id": "2ykEC-LPNLoa"
      },
      "execution_count": null,
      "outputs": []
    },
    {
      "cell_type": "markdown",
      "source": [
        "LOAD AND EVALUATE TRAINED AGENT"
      ],
      "metadata": {
        "id": "UBgO7pb8NV25"
      }
    },
    {
      "cell_type": "code",
      "source": [
        "print(\"\\n--- Loading and Evaluating Final Model ---\")\n",
        "model = DQN.load(\"dqn_lunar_v3\")\n",
        "mean_reward, std_reward = evaluate_policy(model, eval_env, n_eval_episodes=20, deterministic=True)\n",
        "print(f\"Final trained agent mean_reward={mean_reward:.2f} +/- {std_reward}\")"
      ],
      "metadata": {
        "id": "SKMcbSQONcl5"
      },
      "execution_count": null,
      "outputs": []
    },
    {
      "cell_type": "markdown",
      "source": [
        "PLOT THE RESULTS"
      ],
      "metadata": {
        "id": "k36KJLkyNv93"
      }
    },
    {
      "cell_type": "code",
      "source": [
        "print(\"\\n--- Plotting Training Progress ---\")\n",
        "\n",
        "# The log_path for EvalCallback ('results') is a FOLDER.\n",
        "# The actual data is in a file named 'evaluations.npz' inside that folder.\n",
        "results_path = os.path.join(log_dir, \"results\")\n",
        "log_file = os.path.join(results_path, \"evaluations.npz\")\n",
        "\n",
        "if os.path.exists(log_file):\n",
        "    print(f\"Loading log file from: {log_file}\")\n",
        "    # Load the saved data\n",
        "    data = np.load(log_file)\n",
        "\n",
        "    timesteps = data['timesteps']\n",
        "    mean_rewards = data['results'][:, 0]\n",
        "\n",
        "    # Create the plot\n",
        "    plt.figure(figsize=(12, 6))\n",
        "    plt.title(\"Standalone DQN Training Performance on LunarLander-v3\")\n",
        "    plt.xlabel(\"Training Timesteps\")\n",
        "    plt.ylabel(\"Average Reward\")\n",
        "    plt.plot(timesteps, mean_rewards)\n",
        "    plt.axhline(y=200, color='r', linestyle='--', label='Success Threshold (200)')\n",
        "    plt.legend()\n",
        "    plt.grid(True)\n",
        "    plt.show()\n",
        "else:\n",
        "    print(f\"Log file not found at {log_file}. Cannot plot results.\")"
      ],
      "metadata": {
        "id": "EzckYsAoN00B"
      },
      "execution_count": null,
      "outputs": []
    },
    {
      "cell_type": "markdown",
      "source": [
        "RECORD VIDEO OF TRAINED AGENT"
      ],
      "metadata": {
        "id": "4S5GQ0EiOFnF"
      }
    },
    {
      "cell_type": "code",
      "source": [
        "print(\"\\n--- Recording Video ---\")\n",
        "\n",
        "env_id = \"LunarLander-v3\"\n",
        "video_folder = \"logs/videos/\"\n",
        "video_length = 6000\n",
        "os.makedirs(video_folder, exist_ok=True)\n",
        "\n",
        "vec_env = DummyVecEnv([lambda: gym.make(env_id, render_mode=\"rgb_array\")])\n",
        "obs = vec_env.reset()\n",
        "\n",
        "vec_env = VecVideoRecorder(vec_env, video_folder,\n",
        "                       record_video_trigger=lambda x: x == 0, video_length=video_length,\n",
        "                       name_prefix=f\"dqn-agent-{env_id}\")\n",
        "\n",
        "vec_env.reset()\n",
        "for _ in range(video_length + 1):\n",
        "  action, _state = model.predict(obs, deterministic=True)\n",
        "  obs, _, _, _ = vec_env.step(action)\n",
        "vec_env.close()\n",
        "\n",
        "mp4_path = f'./logs/videos/dqn-agent-{env_id}-step-0-to-step-6000.mp4'\n",
        "if os.path.exists(mp4_path):\n",
        "    mp4 = open(mp4_path,'rb').read()\n",
        "    data_url = \"data:video/mp4;base64,\" + b64encode(mp4).decode()\n",
        "    display(HTML(\"\"\"\n",
        "    <video width=400 controls>\n",
        "          <source src=\"%s\" type=\"video/mp4\">\n",
        "    </video>\n",
        "    \"\"\" % data_url))\n",
        "else:\n",
        "    print(f\"Video file not found at {mp4_path}\")"
      ],
      "metadata": {
        "id": "qidU1lBoOL03"
      },
      "execution_count": null,
      "outputs": []
    }
  ]
}